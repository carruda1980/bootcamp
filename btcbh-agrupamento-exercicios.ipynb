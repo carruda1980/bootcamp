{
 "cells": [
  {
   "cell_type": "markdown",
   "metadata": {},
   "source": [
    "<img src=\"imagens/md-logo.jpg\" width=\"96\" height=\"96\" align=\"left\"/>"
   ]
  },
  {
   "cell_type": "markdown",
   "metadata": {},
   "source": [
    "# Clustering - Exercícios"
   ]
  },
  {
   "cell_type": "markdown",
   "metadata": {},
   "source": [
    "<font color=blue><b> Bootcamp Minerando Dados</b></font><br>\n",
    " www.minerandodados.com.br  "
   ]
  },
  {
   "cell_type": "markdown",
   "metadata": {},
   "source": [
    "1) Importe as bibliotecas para visualização de dados e clustering"
   ]
  },
  {
   "cell_type": "markdown",
   "metadata": {},
   "source": [
    "2) Leia a base de dados **iris.csv** localizada no diretorio **datasets** e crie um Dataframe."
   ]
  },
  {
   "cell_type": "markdown",
   "metadata": {},
   "source": [
    "3) Retorne os **top 10 registros** da base de dados"
   ]
  },
  {
   "cell_type": "markdown",
   "metadata": {},
   "source": [
    "4) Armazene apenas as **features e seus dados** na variável train"
   ]
  },
  {
   "cell_type": "markdown",
   "metadata": {},
   "source": [
    "5) Armazene os dados de classes na variável classes"
   ]
  },
  {
   "cell_type": "markdown",
   "metadata": {},
   "source": [
    "6) Utilizando a função abaixo, aplique nos dados de classe para **converter os dados categóricos em numéricos**"
   ]
  },
  {
   "cell_type": "code",
   "execution_count": null,
   "metadata": {},
   "outputs": [],
   "source": [
    "def converte_classe(l):\n",
    "    if l == 'Iris-virginica':\n",
    "        return 0\n",
    "    elif l == 'Iris-setosa':\n",
    "        return 1\n",
    "    elif l == 'Iris-versicolor':\n",
    "        return 2"
   ]
  },
  {
   "cell_type": "markdown",
   "metadata": {},
   "source": [
    "7) Crie uma função que faça o **calculo da distância euclidiana em dois vetores**"
   ]
  },
  {
   "cell_type": "markdown",
   "metadata": {},
   "source": [
    "8) Utilizando a função criada anteriormente faça:"
   ]
  },
  {
   "cell_type": "markdown",
   "metadata": {},
   "source": [
    "- Calcule a distância entre os vetores **v1 e v2** abaixo\n",
    "> v1 = [1.2,1,2.1,1]<br>\n",
    "> v2 = [1,1.9,5.4,3.2]"
   ]
  },
  {
   "cell_type": "markdown",
   "metadata": {},
   "source": [
    "- Calcule a distância entre os vetores **v3 e v4** abaixo e explique o retorno\n",
    "> v3 = [0.5,0,2.1,1.5]<br>\n",
    "> v4 = [0.5,0,2.1,1.5]"
   ]
  },
  {
   "cell_type": "markdown",
   "metadata": {},
   "source": [
    "9) Instâncie o algoritmo Kmeans com o número de clusters **igual ao número de classes** da sua base de dados."
   ]
  },
  {
   "cell_type": "markdown",
   "metadata": {},
   "source": [
    "10) Execute o algoritmo Kmeans com os dados da base de dados"
   ]
  },
  {
   "cell_type": "markdown",
   "metadata": {},
   "source": [
    "11) Imprima os valores dos **centroides**"
   ]
  },
  {
   "cell_type": "markdown",
   "metadata": {},
   "source": [
    "12) Selecione **três amostras da base de dados e calcule a distância euclidiana entre as amostras de dados e cada um dos valores de centroids**"
   ]
  },
  {
   "cell_type": "markdown",
   "metadata": {},
   "source": [
    "- DICA: Use um laço for..."
   ]
  },
  {
   "cell_type": "markdown",
   "metadata": {},
   "source": [
    "13) Gere a **tabela de distância** e verifique os valores através do método fit_transform()"
   ]
  },
  {
   "cell_type": "markdown",
   "metadata": {},
   "source": [
    "14) Utilizando o método **predict()** defina novos valores de dados e faça a predição"
   ]
  },
  {
   "cell_type": "markdown",
   "metadata": {},
   "source": [
    "15) Com os códigos da prática anterior visualize os resultados de forma gráfica"
   ]
  }
 ],
 "metadata": {
  "kernelspec": {
   "display_name": "Python 3",
   "language": "python",
   "name": "python3"
  },
  "language_info": {
   "codemirror_mode": {
    "name": "ipython",
    "version": 3
   },
   "file_extension": ".py",
   "mimetype": "text/x-python",
   "name": "python",
   "nbconvert_exporter": "python",
   "pygments_lexer": "ipython3",
   "version": "3.6.5"
  },
  "widgets": {
   "application/vnd.jupyter.widget-state+json": {
    "state": {},
    "version_major": 2,
    "version_minor": 0
   }
  }
 },
 "nbformat": 4,
 "nbformat_minor": 2
}
